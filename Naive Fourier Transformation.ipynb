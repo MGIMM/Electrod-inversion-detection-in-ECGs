{
 "cells": [
  {
   "cell_type": "code",
   "execution_count": 2,
   "metadata": {
    "collapsed": true
   },
   "outputs": [],
   "source": [
    "import pandas as pd\n",
    "import numpy as np\n",
    "from matplotlib import pyplot as plt\n",
    "from ECG_function import *\n",
    "%matplotlib inline"
   ]
  },
  {
   "cell_type": "markdown",
   "metadata": {},
   "source": [
    "# \"Naive\" Fourier Transformation\n",
    "## Data Importing"
   ]
  },
  {
   "cell_type": "code",
   "execution_count": 29,
   "metadata": {
    "collapsed": false
   },
   "outputs": [],
   "source": [
    "Xtrain,Ytrain,Xtest = DataImporting()\n",
    "lable = Ytrain.TARGET.values"
   ]
  },
  {
   "cell_type": "code",
   "execution_count": 6,
   "metadata": {
    "collapsed": false
   },
   "outputs": [
    {
     "data": {
      "text/html": [
       "<div>\n",
       "<table border=\"1\" class=\"dataframe\">\n",
       "  <thead>\n",
       "    <tr style=\"text-align: right;\">\n",
       "      <th></th>\n",
       "      <th>ML1_0</th>\n",
       "      <th>ML1_1</th>\n",
       "      <th>ML1_2</th>\n",
       "      <th>ML1_3</th>\n",
       "      <th>ML1_4</th>\n",
       "      <th>ML1_5</th>\n",
       "      <th>ML1_6</th>\n",
       "      <th>ML1_7</th>\n",
       "      <th>ML1_8</th>\n",
       "      <th>ML1_9</th>\n",
       "      <th>...</th>\n",
       "      <th>ML1_740</th>\n",
       "      <th>ML1_741</th>\n",
       "      <th>ML1_742</th>\n",
       "      <th>ML1_743</th>\n",
       "      <th>ML1_744</th>\n",
       "      <th>ML1_745</th>\n",
       "      <th>ML1_746</th>\n",
       "      <th>ML1_747</th>\n",
       "      <th>ML1_748</th>\n",
       "      <th>ML1_749</th>\n",
       "    </tr>\n",
       "  </thead>\n",
       "  <tbody>\n",
       "    <tr>\n",
       "      <th>1</th>\n",
       "      <td>0.018403</td>\n",
       "      <td>0.026159</td>\n",
       "      <td>0.009684</td>\n",
       "      <td>0.001014</td>\n",
       "      <td>-0.000866</td>\n",
       "      <td>0.002019</td>\n",
       "      <td>0.000617</td>\n",
       "      <td>-0.011167</td>\n",
       "      <td>-0.026314</td>\n",
       "      <td>-0.026881</td>\n",
       "      <td>...</td>\n",
       "      <td>-0.030683</td>\n",
       "      <td>-0.027179</td>\n",
       "      <td>-0.023822</td>\n",
       "      <td>-0.021767</td>\n",
       "      <td>-0.021504</td>\n",
       "      <td>-0.022533</td>\n",
       "      <td>-0.023832</td>\n",
       "      <td>-0.023974</td>\n",
       "      <td>-0.021915</td>\n",
       "      <td>-0.017584</td>\n",
       "    </tr>\n",
       "    <tr>\n",
       "      <th>2</th>\n",
       "      <td>-0.020974</td>\n",
       "      <td>-0.044294</td>\n",
       "      <td>-0.044097</td>\n",
       "      <td>-0.042136</td>\n",
       "      <td>-0.041125</td>\n",
       "      <td>-0.034392</td>\n",
       "      <td>-0.033026</td>\n",
       "      <td>-0.031817</td>\n",
       "      <td>-0.032347</td>\n",
       "      <td>-0.034317</td>\n",
       "      <td>...</td>\n",
       "      <td>0.013544</td>\n",
       "      <td>-0.013377</td>\n",
       "      <td>-0.038524</td>\n",
       "      <td>-0.038650</td>\n",
       "      <td>-0.039073</td>\n",
       "      <td>-0.051832</td>\n",
       "      <td>-0.069153</td>\n",
       "      <td>-0.081822</td>\n",
       "      <td>-0.086272</td>\n",
       "      <td>-0.088153</td>\n",
       "    </tr>\n",
       "  </tbody>\n",
       "</table>\n",
       "<p>2 rows × 750 columns</p>\n",
       "</div>"
      ],
      "text/plain": [
       "      ML1_0     ML1_1     ML1_2     ML1_3     ML1_4     ML1_5     ML1_6  \\\n",
       "1  0.018403  0.026159  0.009684  0.001014 -0.000866  0.002019  0.000617   \n",
       "2 -0.020974 -0.044294 -0.044097 -0.042136 -0.041125 -0.034392 -0.033026   \n",
       "\n",
       "      ML1_7     ML1_8     ML1_9    ...      ML1_740   ML1_741   ML1_742  \\\n",
       "1 -0.011167 -0.026314 -0.026881    ...    -0.030683 -0.027179 -0.023822   \n",
       "2 -0.031817 -0.032347 -0.034317    ...     0.013544 -0.013377 -0.038524   \n",
       "\n",
       "    ML1_743   ML1_744   ML1_745   ML1_746   ML1_747   ML1_748   ML1_749  \n",
       "1 -0.021767 -0.021504 -0.022533 -0.023832 -0.023974 -0.021915 -0.017584  \n",
       "2 -0.038650 -0.039073 -0.051832 -0.069153 -0.081822 -0.086272 -0.088153  \n",
       "\n",
       "[2 rows x 750 columns]"
      ]
     },
     "execution_count": 6,
     "metadata": {},
     "output_type": "execute_result"
    }
   ],
   "source": [
    "#test\n",
    "DataSample(Xtrain,[1,2],1)"
   ]
  },
  {
   "cell_type": "markdown",
   "metadata": {},
   "source": [
    "## Feature Collection\n",
    "We consider a fft transformation for all the 12 channels's signals."
   ]
  },
  {
   "cell_type": "code",
   "execution_count": 36,
   "metadata": {
    "collapsed": false
   },
   "outputs": [
    {
     "data": {
      "text/plain": [
       "<matplotlib.text.Text at 0x1074cddd0>"
      ]
     },
     "execution_count": 36,
     "metadata": {},
     "output_type": "execute_result"
    },
    {
     "data": {
      "image/png": "[encoded data removed]",
      "text/plain": [
       "<matplotlib.figure.Figure at 0x106020ad0>"
      ]
     },
     "metadata": {},
     "output_type": "display_data"
    }
   ],
   "source": [
    "from scipy.fftpack import dct, idct\n",
    "#a = list(dct(DataSample(Xtrain,1,12).values, norm='ortho'))+list(dct(DataSample(Xtrain,1,11).values, norm='ortho'))\n",
    "AllFeatures_fft =[[] for i in range(1000)]\n",
    "for id in range(1000):\n",
    "    for k in range(1,13):\n",
    "        AllFeatures_fft[id] += list(dct(DataSample(Xtrain,id,k).values, norm='ortho'))\n",
    "#test for id 1\n",
    "plt.figure(figsize=(13,8))\n",
    "plt.plot(AllFeatures_fft[1])\n",
    "plt.title(\"FFT-Representation for ID 1\")\n"
   ]
  },
  {
   "cell_type": "markdown",
   "metadata": {},
   "source": [
    "## Feature Selction\n",
    "We will use a classic F-test method."
   ]
  },
  {
   "cell_type": "code",
   "execution_count": 120,
   "metadata": {
    "collapsed": false
   },
   "outputs": [
    {
     "data": {
      "text/plain": [
       "(1000, 9000)"
      ]
     },
     "execution_count": 120,
     "metadata": {},
     "output_type": "execute_result"
    }
   ],
   "source": [
    "from sklearn.feature_selection import SelectKBest, f_classif\n",
    "\n",
    "Select = SelectKBest(f_classif, k=190)\n",
    "SelectedFeatures = Select.fit_transform(AllFeatures_fft, lable)\n",
    "np.shape(AllFeatures_fft)"
   ]
  },
  {
   "cell_type": "markdown",
   "metadata": {},
   "source": [
    "# Classification\n",
    "## Gaussian NB"
   ]
  },
  {
   "cell_type": "code",
   "execution_count": 121,
   "metadata": {
    "collapsed": false
   },
   "outputs": [
    {
     "name": "stdout",
     "output_type": "stream",
     "text": [
      "0.775449101796\n"
     ]
    }
   ],
   "source": [
    "from sklearn.naive_bayes import GaussianNB \n",
    "\n",
    "N_sep = len(lable)*2/3\n",
    "\n",
    "gnb = GaussianNB()\n",
    "gnb.fit(SelectedFeatures[0:N_sep], lable[0:N_sep])\n",
    "print gnb.score(SelectedFeatures[N_sep:], lable[N_sep:])\n",
    "feat_pred_gnb = gnb.predict(SelectedFeatures[N_sep:])"
   ]
  },
  {
   "cell_type": "code",
   "execution_count": 122,
   "metadata": {
    "collapsed": false
   },
   "outputs": [
    {
     "data": {
      "image/png": "[encoded data removed]",
      "text/plain": [
       "<matplotlib.figure.Figure at 0x105eb8490>"
      ]
     },
     "metadata": {},
     "output_type": "display_data"
    }
   ],
   "source": [
    "from sklearn.metrics import confusion_matrix\n",
    "cm = confusion_matrix(lable[N_sep:],feat_pred_gnb)\n",
    "cm_normalized = cm.astype('float') / cm.sum(axis=1)[:, np.newaxis]\n",
    "plt.imshow(cm_normalized, interpolation='nearest',cmap = 'OrRd')\n",
    "plt.colorbar()\n",
    "plt.title('Confusion Matrix for GNB')\n",
    "for y in range(2):\n",
    "    for x in range(2):\n",
    "        plt.text(x, y , '%.2f' % cm[y,x],\n",
    "                 horizontalalignment='center',\n",
    "                 verticalalignment='center',\n",
    "                 )"
   ]
  },
  {
   "cell_type": "markdown",
   "metadata": {},
   "source": [
    "## SVM\n",
    "We select the kernel linear."
   ]
  },
  {
   "cell_type": "code",
   "execution_count": 123,
   "metadata": {
    "collapsed": false
   },
   "outputs": [
    {
     "name": "stdout",
     "output_type": "stream",
     "text": [
      "0.709580838323\n"
     ]
    }
   ],
   "source": [
    "from sklearn import svm\n",
    "svm = svm.SVC(kernel='linear')#‘linear!!!’ or 'poly'\n",
    "svm.fit(SelectedFeatures[0:N_sep], lable[0:N_sep])\n",
    "print svm.score(SelectedFeatures[N_sep:], lable[N_sep:])\n",
    "feat_pred_svm = svm.predict(SelectedFeatures[N_sep:])"
   ]
  },
  {
   "cell_type": "code",
   "execution_count": 124,
   "metadata": {
    "collapsed": false
   },
   "outputs": [
    {
     "data": {
      "image/png": "[encoded data removed]",
      "text/plain": [
       "<matplotlib.figure.Figure at 0x1071cd890>"
      ]
     },
     "metadata": {},
     "output_type": "display_data"
    }
   ],
   "source": [
    "cm = confusion_matrix(lable[N_sep:],feat_pred_svm)\n",
    "cm_normalized = cm.astype('float') / cm.sum(axis=1)[:, np.newaxis]\n",
    "plt.imshow(cm_normalized, interpolation='nearest',cmap = 'OrRd')\n",
    "plt.title('Confusion Matrix for SVM')\n",
    "plt.colorbar()\n",
    "for y in range(2):\n",
    "    for x in range(2):\n",
    "        plt.text(x, y , '%.2f' % cm[y,x],\n",
    "                 horizontalalignment='center',\n",
    "                 verticalalignment='center',\n",
    "                 )"
   ]
  },
  {
   "cell_type": "markdown",
   "metadata": {},
   "source": [
    "## Random Forest\n",
    "We set the n_estimetors = 50."
   ]
  },
  {
   "cell_type": "code",
   "execution_count": 125,
   "metadata": {
    "collapsed": false
   },
   "outputs": [
    {
     "name": "stdout",
     "output_type": "stream",
     "text": [
      "0.745508982036\n"
     ]
    }
   ],
   "source": [
    "from sklearn.ensemble import RandomForestClassifier\n",
    "RF = RandomForestClassifier(n_estimators=50)\n",
    "RF.fit(SelectedFeatures[0:N_sep], lable[0:N_sep])\n",
    "print RF.score(SelectedFeatures[N_sep:], lable[N_sep:])\n",
    "feat_pred_RF = RF.predict(SelectedFeatures[N_sep:])"
   ]
  },
  {
   "cell_type": "code",
   "execution_count": 126,
   "metadata": {
    "collapsed": false
   },
   "outputs": [
    {
     "data": {
      "image/png": "[encoded data removed]",
      "text/plain": [
       "<matplotlib.figure.Figure at 0x1066fc110>"
      ]
     },
     "metadata": {},
     "output_type": "display_data"
    }
   ],
   "source": [
    "cm = confusion_matrix(lable[N_sep:],feat_pred_RF)\n",
    "cm_normalized = cm.astype('float') / cm.sum(axis=1)[:, np.newaxis]\n",
    "plt.imshow(cm_normalized, interpolation='nearest',cmap = 'OrRd')\n",
    "plt.title('Confusion Matrix for RF')\n",
    "plt.colorbar()\n",
    "for y in range(2):\n",
    "    for x in range(2):\n",
    "        plt.text(x, y , '%.2f' % cm[y,x],\n",
    "                 horizontalalignment='center',\n",
    "                 verticalalignment='center',\n",
    "                 )"
   ]
  },
  {
   "cell_type": "markdown",
   "metadata": {},
   "source": [
    "## BenchMark for Different Number of Features"
   ]
  },
  {
   "cell_type": "code",
   "execution_count": 116,
   "metadata": {
    "collapsed": false
   },
   "outputs": [],
   "source": [
    "k_gnb = []\n",
    "k_svm = []\n",
    "k_rf = []\n",
    "\n",
    "for num_feature in range(100,2000,100):\n",
    "    Selec = SelectKBest(f_classif, k = num_feature )\n",
    "    train_data_features = Selec.fit_transform(AllFeatures_fft, lable)\n",
    "    \n",
    "    #GNB\n",
    "    gnb.fit(train_data_features[0:N_sep], lable[0:N_sep])\n",
    "    k_gnb.append(gnb.score(train_data_features[N_sep:], lable[N_sep:]))\n",
    "    \n",
    "    #SVM  \n",
    "    svm.fit(train_data_features[0:N_sep], lable[0:N_sep])\n",
    "    k_svm.append(svm.score(train_data_features[N_sep:], lable[N_sep:]))\n",
    "    \n",
    "    #RF\n",
    "    RF.fit(train_data_features[0:N_sep], lable[0:N_sep])\n",
    "    k_rf.append(RF.score(train_data_features[N_sep:], lable[N_sep:]))\n",
    "    \n"
   ]
  },
  {
   "cell_type": "code",
   "execution_count": 117,
   "metadata": {
    "collapsed": false
   },
   "outputs": [
    {
     "data": {
      "text/html": [
       "<div>\n",
       "<table border=\"1\" class=\"dataframe\">\n",
       "  <thead>\n",
       "    <tr style=\"text-align: right;\">\n",
       "      <th></th>\n",
       "      <th>GNB</th>\n",
       "      <th>RF</th>\n",
       "      <th>SVM</th>\n",
       "    </tr>\n",
       "  </thead>\n",
       "  <tbody>\n",
       "    <tr>\n",
       "      <th>k = 100</th>\n",
       "      <td>0.745509</td>\n",
       "      <td>0.763473</td>\n",
       "      <td>0.700599</td>\n",
       "    </tr>\n",
       "    <tr>\n",
       "      <th>k = 200</th>\n",
       "      <td>0.781437</td>\n",
       "      <td>0.766467</td>\n",
       "      <td>0.700599</td>\n",
       "    </tr>\n",
       "    <tr>\n",
       "      <th>k = 300</th>\n",
       "      <td>0.760479</td>\n",
       "      <td>0.733533</td>\n",
       "      <td>0.706587</td>\n",
       "    </tr>\n",
       "    <tr>\n",
       "      <th>k = 400</th>\n",
       "      <td>0.751497</td>\n",
       "      <td>0.775449</td>\n",
       "      <td>0.706587</td>\n",
       "    </tr>\n",
       "    <tr>\n",
       "      <th>k = 500</th>\n",
       "      <td>0.760479</td>\n",
       "      <td>0.784431</td>\n",
       "      <td>0.715569</td>\n",
       "    </tr>\n",
       "    <tr>\n",
       "      <th>k = 600</th>\n",
       "      <td>0.757485</td>\n",
       "      <td>0.778443</td>\n",
       "      <td>0.697605</td>\n",
       "    </tr>\n",
       "    <tr>\n",
       "      <th>k = 700</th>\n",
       "      <td>0.742515</td>\n",
       "      <td>0.757485</td>\n",
       "      <td>0.727545</td>\n",
       "    </tr>\n",
       "    <tr>\n",
       "      <th>k = 800</th>\n",
       "      <td>0.739521</td>\n",
       "      <td>0.772455</td>\n",
       "      <td>0.703593</td>\n",
       "    </tr>\n",
       "    <tr>\n",
       "      <th>k = 900</th>\n",
       "      <td>0.730539</td>\n",
       "      <td>0.745509</td>\n",
       "      <td>0.700599</td>\n",
       "    </tr>\n",
       "    <tr>\n",
       "      <th>k = 1000</th>\n",
       "      <td>0.727545</td>\n",
       "      <td>0.763473</td>\n",
       "      <td>0.694611</td>\n",
       "    </tr>\n",
       "    <tr>\n",
       "      <th>k = 1100</th>\n",
       "      <td>0.730539</td>\n",
       "      <td>0.769461</td>\n",
       "      <td>0.673653</td>\n",
       "    </tr>\n",
       "    <tr>\n",
       "      <th>k = 1200</th>\n",
       "      <td>0.730539</td>\n",
       "      <td>0.757485</td>\n",
       "      <td>0.664671</td>\n",
       "    </tr>\n",
       "    <tr>\n",
       "      <th>k = 1300</th>\n",
       "      <td>0.730539</td>\n",
       "      <td>0.769461</td>\n",
       "      <td>0.670659</td>\n",
       "    </tr>\n",
       "    <tr>\n",
       "      <th>k = 1400</th>\n",
       "      <td>0.730539</td>\n",
       "      <td>0.766467</td>\n",
       "      <td>0.649701</td>\n",
       "    </tr>\n",
       "    <tr>\n",
       "      <th>k = 1500</th>\n",
       "      <td>0.724551</td>\n",
       "      <td>0.778443</td>\n",
       "      <td>0.685629</td>\n",
       "    </tr>\n",
       "    <tr>\n",
       "      <th>k = 1600</th>\n",
       "      <td>0.724551</td>\n",
       "      <td>0.784431</td>\n",
       "      <td>0.679641</td>\n",
       "    </tr>\n",
       "    <tr>\n",
       "      <th>k = 1700</th>\n",
       "      <td>0.724551</td>\n",
       "      <td>0.784431</td>\n",
       "      <td>0.685629</td>\n",
       "    </tr>\n",
       "    <tr>\n",
       "      <th>k = 1800</th>\n",
       "      <td>0.718563</td>\n",
       "      <td>0.760479</td>\n",
       "      <td>0.679641</td>\n",
       "    </tr>\n",
       "    <tr>\n",
       "      <th>k = 1900</th>\n",
       "      <td>0.718563</td>\n",
       "      <td>0.760479</td>\n",
       "      <td>0.679641</td>\n",
       "    </tr>\n",
       "  </tbody>\n",
       "</table>\n",
       "</div>"
      ],
      "text/plain": [
       "               GNB        RF       SVM\n",
       "k = 100   0.745509  0.763473  0.700599\n",
       "k = 200   0.781437  0.766467  0.700599\n",
       "k = 300   0.760479  0.733533  0.706587\n",
       "k = 400   0.751497  0.775449  0.706587\n",
       "k = 500   0.760479  0.784431  0.715569\n",
       "k = 600   0.757485  0.778443  0.697605\n",
       "k = 700   0.742515  0.757485  0.727545\n",
       "k = 800   0.739521  0.772455  0.703593\n",
       "k = 900   0.730539  0.745509  0.700599\n",
       "k = 1000  0.727545  0.763473  0.694611\n",
       "k = 1100  0.730539  0.769461  0.673653\n",
       "k = 1200  0.730539  0.757485  0.664671\n",
       "k = 1300  0.730539  0.769461  0.670659\n",
       "k = 1400  0.730539  0.766467  0.649701\n",
       "k = 1500  0.724551  0.778443  0.685629\n",
       "k = 1600  0.724551  0.784431  0.679641\n",
       "k = 1700  0.724551  0.784431  0.685629\n",
       "k = 1800  0.718563  0.760479  0.679641\n",
       "k = 1900  0.718563  0.760479  0.679641"
      ]
     },
     "execution_count": 117,
     "metadata": {},
     "output_type": "execute_result"
    }
   ],
   "source": [
    "BenchMark = pd.DataFrame({\"GNB\":k_gnb,\"SVM\":k_svm,'RF':k_rf})\n",
    "BenchMark.index = [\"k = \"+ str(i) for i in range(100,2000,100)]\n",
    "BenchMark"
   ]
  },
  {
   "cell_type": "code",
   "execution_count": 88,
   "metadata": {
    "collapsed": false
   },
   "outputs": [
    {
     "data": {
      "text/plain": [
       "<matplotlib.text.Text at 0x107052e90>"
      ]
     },
     "execution_count": 88,
     "metadata": {},
     "output_type": "execute_result"
    },
    {
     "data": {
      "image/png": "[encoded data removed]",
      "text/plain": [
       "<matplotlib.figure.Figure at 0x10712b5d0>"
      ]
     },
     "metadata": {},
     "output_type": "display_data"
    }
   ],
   "source": [
    "plt.figure(figsize = (10,7))\n",
    "plt.plot(BenchMark[\"GNB\"])\n",
    "plt.plot(BenchMark[\"SVM\"])\n",
    "plt.plot(BenchMark[\"RF\"])\n",
    "plt.xticks(range(0,19),range(100,2000,100))\n",
    "plt.legend(['GNB','SVM','RF'])\n",
    "plt.xlabel(\"Number of Features K\")\n",
    "plt.ylabel(\"Accuaracy rate 2:1 train-test split\")\n",
    "plt.title(\"Benchmark for differents classifiers against number of features (K)\")"
   ]
  },
  {
   "cell_type": "code",
   "execution_count": 107,
   "metadata": {
    "collapsed": false
   },
   "outputs": [],
   "source": [
    "k_gnb = []\n",
    "k_svm = []\n",
    "k_rf = []\n",
    "\n",
    "for num_feature in range(150,340,10):\n",
    "    Selec = SelectKBest(f_classif, k = num_feature )\n",
    "    train_data_features = Selec.fit_transform(AllFeatures_fft, lable)\n",
    "    \n",
    "    #GNB\n",
    "    gnb.fit(train_data_features[0:N_sep], lable[0:N_sep])\n",
    "    k_gnb.append(gnb.score(train_data_features[N_sep:], lable[N_sep:]))\n",
    "    \n",
    "    #SVM  \n",
    "    svm.fit(train_data_features[0:N_sep], lable[0:N_sep])\n",
    "    k_svm.append(svm.score(train_data_features[N_sep:], lable[N_sep:]))\n",
    "    \n",
    "    #RF\n",
    "    RF.fit(train_data_features[0:N_sep], lable[0:N_sep])\n",
    "    k_rf.append(RF.score(train_data_features[N_sep:], lable[N_sep:]))\n",
    "    "
   ]
  },
  {
   "cell_type": "code",
   "execution_count": 108,
   "metadata": {
    "collapsed": false
   },
   "outputs": [
    {
     "data": {
      "text/html": [
       "<div>\n",
       "<table border=\"1\" class=\"dataframe\">\n",
       "  <thead>\n",
       "    <tr style=\"text-align: right;\">\n",
       "      <th></th>\n",
       "      <th>GNB</th>\n",
       "      <th>RF</th>\n",
       "      <th>SVM</th>\n",
       "    </tr>\n",
       "  </thead>\n",
       "  <tbody>\n",
       "    <tr>\n",
       "      <th>k = 100</th>\n",
       "      <td>0.757485</td>\n",
       "      <td>0.781437</td>\n",
       "      <td>0.700599</td>\n",
       "    </tr>\n",
       "    <tr>\n",
       "      <th>k = 200</th>\n",
       "      <td>0.760479</td>\n",
       "      <td>0.784431</td>\n",
       "      <td>0.694611</td>\n",
       "    </tr>\n",
       "    <tr>\n",
       "      <th>k = 300</th>\n",
       "      <td>0.763473</td>\n",
       "      <td>0.772455</td>\n",
       "      <td>0.694611</td>\n",
       "    </tr>\n",
       "    <tr>\n",
       "      <th>k = 400</th>\n",
       "      <td>0.772455</td>\n",
       "      <td>0.769461</td>\n",
       "      <td>0.724551</td>\n",
       "    </tr>\n",
       "    <tr>\n",
       "      <th>k = 500</th>\n",
       "      <td>0.775449</td>\n",
       "      <td>0.790419</td>\n",
       "      <td>0.709581</td>\n",
       "    </tr>\n",
       "    <tr>\n",
       "      <th>k = 600</th>\n",
       "      <td>0.781437</td>\n",
       "      <td>0.775449</td>\n",
       "      <td>0.700599</td>\n",
       "    </tr>\n",
       "    <tr>\n",
       "      <th>k = 700</th>\n",
       "      <td>0.781437</td>\n",
       "      <td>0.781437</td>\n",
       "      <td>0.703593</td>\n",
       "    </tr>\n",
       "    <tr>\n",
       "      <th>k = 800</th>\n",
       "      <td>0.781437</td>\n",
       "      <td>0.787425</td>\n",
       "      <td>0.700599</td>\n",
       "    </tr>\n",
       "    <tr>\n",
       "      <th>k = 900</th>\n",
       "      <td>0.769461</td>\n",
       "      <td>0.760479</td>\n",
       "      <td>0.697605</td>\n",
       "    </tr>\n",
       "    <tr>\n",
       "      <th>k = 1000</th>\n",
       "      <td>0.754491</td>\n",
       "      <td>0.757485</td>\n",
       "      <td>0.703593</td>\n",
       "    </tr>\n",
       "    <tr>\n",
       "      <th>k = 1100</th>\n",
       "      <td>0.754491</td>\n",
       "      <td>0.757485</td>\n",
       "      <td>0.703593</td>\n",
       "    </tr>\n",
       "    <tr>\n",
       "      <th>k = 1200</th>\n",
       "      <td>0.757485</td>\n",
       "      <td>0.769461</td>\n",
       "      <td>0.712575</td>\n",
       "    </tr>\n",
       "    <tr>\n",
       "      <th>k = 1300</th>\n",
       "      <td>0.757485</td>\n",
       "      <td>0.748503</td>\n",
       "      <td>0.706587</td>\n",
       "    </tr>\n",
       "    <tr>\n",
       "      <th>k = 1400</th>\n",
       "      <td>0.757485</td>\n",
       "      <td>0.763473</td>\n",
       "      <td>0.700599</td>\n",
       "    </tr>\n",
       "    <tr>\n",
       "      <th>k = 1500</th>\n",
       "      <td>0.760479</td>\n",
       "      <td>0.775449</td>\n",
       "      <td>0.709581</td>\n",
       "    </tr>\n",
       "    <tr>\n",
       "      <th>k = 1600</th>\n",
       "      <td>0.760479</td>\n",
       "      <td>0.781437</td>\n",
       "      <td>0.706587</td>\n",
       "    </tr>\n",
       "    <tr>\n",
       "      <th>k = 1700</th>\n",
       "      <td>0.763473</td>\n",
       "      <td>0.769461</td>\n",
       "      <td>0.715569</td>\n",
       "    </tr>\n",
       "    <tr>\n",
       "      <th>k = 1800</th>\n",
       "      <td>0.757485</td>\n",
       "      <td>0.757485</td>\n",
       "      <td>0.712575</td>\n",
       "    </tr>\n",
       "    <tr>\n",
       "      <th>k = 1900</th>\n",
       "      <td>0.757485</td>\n",
       "      <td>0.754491</td>\n",
       "      <td>0.709581</td>\n",
       "    </tr>\n",
       "  </tbody>\n",
       "</table>\n",
       "</div>"
      ],
      "text/plain": [
       "               GNB        RF       SVM\n",
       "k = 100   0.757485  0.781437  0.700599\n",
       "k = 200   0.760479  0.784431  0.694611\n",
       "k = 300   0.763473  0.772455  0.694611\n",
       "k = 400   0.772455  0.769461  0.724551\n",
       "k = 500   0.775449  0.790419  0.709581\n",
       "k = 600   0.781437  0.775449  0.700599\n",
       "k = 700   0.781437  0.781437  0.703593\n",
       "k = 800   0.781437  0.787425  0.700599\n",
       "k = 900   0.769461  0.760479  0.697605\n",
       "k = 1000  0.754491  0.757485  0.703593\n",
       "k = 1100  0.754491  0.757485  0.703593\n",
       "k = 1200  0.757485  0.769461  0.712575\n",
       "k = 1300  0.757485  0.748503  0.706587\n",
       "k = 1400  0.757485  0.763473  0.700599\n",
       "k = 1500  0.760479  0.775449  0.709581\n",
       "k = 1600  0.760479  0.781437  0.706587\n",
       "k = 1700  0.763473  0.769461  0.715569\n",
       "k = 1800  0.757485  0.757485  0.712575\n",
       "k = 1900  0.757485  0.754491  0.709581"
      ]
     },
     "execution_count": 108,
     "metadata": {},
     "output_type": "execute_result"
    }
   ],
   "source": [
    "BenchMark2 = pd.DataFrame({\"GNB\":k_gnb,\"SVM\":k_svm,'RF':k_rf})\n",
    "BenchMark2.index = [\"k = \"+ str(i) for i in range(100,2000,100)]\n",
    "BenchMark2"
   ]
  },
  {
   "cell_type": "code",
   "execution_count": 109,
   "metadata": {
    "collapsed": false
   },
   "outputs": [
    {
     "data": {
      "text/plain": [
       "<matplotlib.text.Text at 0x10751d950>"
      ]
     },
     "execution_count": 109,
     "metadata": {},
     "output_type": "execute_result"
    },
    {
     "data": {
      "image/png": "[encoded data removed]",
      "text/plain": [
       "<matplotlib.figure.Figure at 0x106e3b9d0>"
      ]
     },
     "metadata": {},
     "output_type": "display_data"
    }
   ],
   "source": [
    "plt.figure(figsize = (10,7))\n",
    "plt.plot(BenchMark[\"GNB\"])\n",
    "plt.plot(BenchMark[\"SVM\"])\n",
    "plt.plot(BenchMark[\"RF\"])\n",
    "plt.xticks(range(0,19),range(150,340,10))\n",
    "plt.legend(['GNB','SVM','RF'])\n",
    "plt.xlabel(\"Number of Features K\")\n",
    "plt.ylabel(\"Accuaracy rate 2:1 train-test split\")\n",
    "plt.title(\"Benchmark for differents classifiers against number of features (K)\")"
   ]
  },
  {
   "cell_type": "markdown",
   "metadata": {},
   "source": [
    "### With these plots, we consider of using the algorithm RF with K = 190.\n",
    "\n",
    "## Cross-Validation"
   ]
  },
  {
   "cell_type": "code",
   "execution_count": 115,
   "metadata": {
    "collapsed": false
   },
   "outputs": [
    {
     "name": "stdout",
     "output_type": "stream",
     "text": [
      "[ 0.86138614  0.83168317  0.77        0.84        0.88        0.81        0.86\n",
      "  0.91        0.77777778  0.76767677]\n",
      "0.830852385239\n"
     ]
    }
   ],
   "source": [
    "from sklearn import cross_validation\n",
    "scores  = cross_validation.cross_val_score(RF, SelectedFeatures, lable, cv=10)\n",
    "print(scores)\n",
    "print(np.mean(scores))"
   ]
  },
  {
   "cell_type": "code",
   "execution_count": null,
   "metadata": {
    "collapsed": true
   },
   "outputs": [],
   "source": []
  }
 ],
 "metadata": {
  "kernelspec": {
   "display_name": "Python 2",
   "language": "python",
   "name": "python2"
  },
  "language_info": {
   "codemirror_mode": {
    "name": "ipython",
    "version": 2
   },
   "file_extension": ".py",
   "mimetype": "text/x-python",
   "name": "python",
   "nbconvert_exporter": "python",
   "pygments_lexer": "ipython2",
   "version": "2.7.11"
  }
 },
 "nbformat": 4,
 "nbformat_minor": 0
}
