{
 "cells": [
  {
   "cell_type": "code",
   "execution_count": 1,
   "metadata": {
    "collapsed": true
   },
   "outputs": [],
   "source": [
    "import pandas as pd\n",
    "import numpy as np\n",
    "from matplotlib import pyplot as plt\n",
    "from ECG_function import *\n",
    "from sklearn import preprocessing\n",
    "%matplotlib inline"
   ]
  },
  {
   "cell_type": "markdown",
   "metadata": {},
   "source": [
    "# \"Naive\" Fourier Transformation\n",
    "## Data Importing"
   ]
  },
  {
   "cell_type": "code",
   "execution_count": 2,
   "metadata": {
    "collapsed": false
   },
   "outputs": [],
   "source": [
    "Xtrain,Ytrain,Xtest = DataImporting()\n",
    "lable = Ytrain.TARGET.values"
   ]
  },
  {
   "cell_type": "code",
   "execution_count": 3,
   "metadata": {
    "collapsed": false
   },
   "outputs": [
    {
     "data": {
      "text/html": [
       "<div>\n",
       "<table border=\"1\" class=\"dataframe\">\n",
       "  <thead>\n",
       "    <tr style=\"text-align: right;\">\n",
       "      <th></th>\n",
       "      <th>ML1_0</th>\n",
       "      <th>ML1_1</th>\n",
       "      <th>ML1_2</th>\n",
       "      <th>ML1_3</th>\n",
       "      <th>ML1_4</th>\n",
       "      <th>ML1_5</th>\n",
       "      <th>ML1_6</th>\n",
       "      <th>ML1_7</th>\n",
       "      <th>ML1_8</th>\n",
       "      <th>ML1_9</th>\n",
       "      <th>...</th>\n",
       "      <th>ML1_740</th>\n",
       "      <th>ML1_741</th>\n",
       "      <th>ML1_742</th>\n",
       "      <th>ML1_743</th>\n",
       "      <th>ML1_744</th>\n",
       "      <th>ML1_745</th>\n",
       "      <th>ML1_746</th>\n",
       "      <th>ML1_747</th>\n",
       "      <th>ML1_748</th>\n",
       "      <th>ML1_749</th>\n",
       "    </tr>\n",
       "  </thead>\n",
       "  <tbody>\n",
       "    <tr>\n",
       "      <th>1</th>\n",
       "      <td>0.018403</td>\n",
       "      <td>0.026159</td>\n",
       "      <td>0.009684</td>\n",
       "      <td>0.001014</td>\n",
       "      <td>-0.000866</td>\n",
       "      <td>0.002019</td>\n",
       "      <td>0.000617</td>\n",
       "      <td>-0.011167</td>\n",
       "      <td>-0.026314</td>\n",
       "      <td>-0.026881</td>\n",
       "      <td>...</td>\n",
       "      <td>-0.030683</td>\n",
       "      <td>-0.027179</td>\n",
       "      <td>-0.023822</td>\n",
       "      <td>-0.021767</td>\n",
       "      <td>-0.021504</td>\n",
       "      <td>-0.022533</td>\n",
       "      <td>-0.023832</td>\n",
       "      <td>-0.023974</td>\n",
       "      <td>-0.021915</td>\n",
       "      <td>-0.017584</td>\n",
       "    </tr>\n",
       "    <tr>\n",
       "      <th>2</th>\n",
       "      <td>-0.020974</td>\n",
       "      <td>-0.044294</td>\n",
       "      <td>-0.044097</td>\n",
       "      <td>-0.042136</td>\n",
       "      <td>-0.041125</td>\n",
       "      <td>-0.034392</td>\n",
       "      <td>-0.033026</td>\n",
       "      <td>-0.031817</td>\n",
       "      <td>-0.032347</td>\n",
       "      <td>-0.034317</td>\n",
       "      <td>...</td>\n",
       "      <td>0.013544</td>\n",
       "      <td>-0.013377</td>\n",
       "      <td>-0.038524</td>\n",
       "      <td>-0.038650</td>\n",
       "      <td>-0.039073</td>\n",
       "      <td>-0.051832</td>\n",
       "      <td>-0.069153</td>\n",
       "      <td>-0.081822</td>\n",
       "      <td>-0.086272</td>\n",
       "      <td>-0.088153</td>\n",
       "    </tr>\n",
       "  </tbody>\n",
       "</table>\n",
       "<p>2 rows × 750 columns</p>\n",
       "</div>"
      ],
      "text/plain": [
       "      ML1_0     ML1_1     ML1_2     ML1_3     ML1_4     ML1_5     ML1_6  \\\n",
       "1  0.018403  0.026159  0.009684  0.001014 -0.000866  0.002019  0.000617   \n",
       "2 -0.020974 -0.044294 -0.044097 -0.042136 -0.041125 -0.034392 -0.033026   \n",
       "\n",
       "      ML1_7     ML1_8     ML1_9    ...      ML1_740   ML1_741   ML1_742  \\\n",
       "1 -0.011167 -0.026314 -0.026881    ...    -0.030683 -0.027179 -0.023822   \n",
       "2 -0.031817 -0.032347 -0.034317    ...     0.013544 -0.013377 -0.038524   \n",
       "\n",
       "    ML1_743   ML1_744   ML1_745   ML1_746   ML1_747   ML1_748   ML1_749  \n",
       "1 -0.021767 -0.021504 -0.022533 -0.023832 -0.023974 -0.021915 -0.017584  \n",
       "2 -0.038650 -0.039073 -0.051832 -0.069153 -0.081822 -0.086272 -0.088153  \n",
       "\n",
       "[2 rows x 750 columns]"
      ]
     },
     "execution_count": 3,
     "metadata": {},
     "output_type": "execute_result"
    }
   ],
   "source": [
    "#test\n",
    "DataSample(Xtrain,[1,2],1)"
   ]
  },
  {
   "cell_type": "markdown",
   "metadata": {},
   "source": [
    "## Feature Collection\n",
    "We consider a fft transformation for all the 12 channels's signals."
   ]
  },
  {
   "cell_type": "code",
   "execution_count": 64,
   "metadata": {
    "collapsed": false
   },
   "outputs": [
    {
     "data": {
      "text/plain": [
       "<matplotlib.text.Text at 0x136865f90>"
      ]
     },
     "execution_count": 64,
     "metadata": {},
     "output_type": "execute_result"
    },
    {
     "data": {
      "image/png": "[encoded data removed]",
      "text/plain": [
       "<matplotlib.figure.Figure at 0x122d8dbd0>"
      ]
     },
     "metadata": {},
     "output_type": "display_data"
    }
   ],
   "source": [
    "from scipy.fftpack import dct, idct\n",
    "#a = list(dct(DataSample(Xtrain,1,12).values, norm='ortho'))+list(dct(DataSample(Xtrain,1,11).values, norm='ortho'))\n",
    "AllFeatures_fft =[[] for i in range(1000)]\n",
    "for id in range(1000):\n",
    "    for k in range(1,13):\n",
    "        AllFeatures_fft[id] += list(dct(DataSample(Xtrain,id,k).values, norm='ortho'))\n",
    "#test for id 1\n",
    "plt.figure(figsize=(13,8))\n",
    "plt.plot(AllFeatures_fft[1])\n",
    "plt.title(\"FFT-Representation for ID 1\")\n"
   ]
  },
  {
   "cell_type": "markdown",
   "metadata": {},
   "source": [
    "## Feature Selction\n",
    "We will use a classic F-test method."
   ]
  },
  {
   "cell_type": "code",
   "execution_count": 88,
   "metadata": {
    "collapsed": false
   },
   "outputs": [
    {
     "data": {
      "text/plain": [
       "(1000, 9000)"
      ]
     },
     "execution_count": 88,
     "metadata": {},
     "output_type": "execute_result"
    }
   ],
   "source": [
    "from sklearn.feature_selection import SelectKBest, f_classif\n",
    "N_sep = len(lable)*4/5\n",
    "\n",
    "Select = SelectKBest(f_classif, k=110)\n",
    "Select.fit(AllFeatures_fft[0:N_sep], lable[0:N_sep])\n",
    "SelectedFeatures = Select.transform(AllFeatures_fft)\n",
    "np.shape(SelectedFeatures)"
   ]
  },
  {
   "cell_type": "markdown",
   "metadata": {},
   "source": [
    "# Classification\n",
    "## Gaussian NB"
   ]
  },
  {
   "cell_type": "code",
   "execution_count": 74,
   "metadata": {
    "collapsed": false
   },
   "outputs": [
    {
     "name": "stdout",
     "output_type": "stream",
     "text": [
      "0.745508982036\n"
     ]
    }
   ],
   "source": [
    "from sklearn.naive_bayes import GaussianNB \n",
    "\n",
    "gnb = GaussianNB()\n",
    "gnb.fit(SelectedFeatures[0:N_sep], lable[0:N_sep])\n",
    "print gnb.score(SelectedFeatures[N_sep:], lable[N_sep:])\n",
    "feat_pred_gnb = gnb.predict(SelectedFeatures[N_sep:])"
   ]
  },
  {
   "cell_type": "code",
   "execution_count": 75,
   "metadata": {
    "collapsed": false
   },
   "outputs": [
    {
     "data": {
      "image/png": "[encoded data removed]",
      "text/plain": [
       "<matplotlib.figure.Figure at 0x1242686d0>"
      ]
     },
     "metadata": {},
     "output_type": "display_data"
    }
   ],
   "source": [
    "PlotCM(lable[N_sep:],feat_pred_svm,'GNB')"
   ]
  },
  {
   "cell_type": "markdown",
   "metadata": {},
   "source": [
    "## SVM\n",
    "We select the kernel linear."
   ]
  },
  {
   "cell_type": "code",
   "execution_count": 76,
   "metadata": {
    "collapsed": false
   },
   "outputs": [
    {
     "name": "stdout",
     "output_type": "stream",
     "text": [
      "0.700598802395\n"
     ]
    }
   ],
   "source": [
    "from sklearn import svm\n",
    "svm = svm.SVC(kernel='linear')#‘linear!!!’ or 'poly'\n",
    "svm.fit(SelectedFeatures[0:N_sep], lable[0:N_sep])\n",
    "print svm.score(SelectedFeatures[N_sep:], lable[N_sep:])\n",
    "feat_pred_svm = svm.predict(SelectedFeatures[N_sep:])"
   ]
  },
  {
   "cell_type": "code",
   "execution_count": 77,
   "metadata": {
    "collapsed": false
   },
   "outputs": [
    {
     "data": {
      "image/png": "[encoded data removed]",
      "text/plain": [
       "<matplotlib.figure.Figure at 0x1267437d0>"
      ]
     },
     "metadata": {},
     "output_type": "display_data"
    }
   ],
   "source": [
    "PlotCM(lable[N_sep:],feat_pred_svm,'SVM')"
   ]
  },
  {
   "cell_type": "markdown",
   "metadata": {},
   "source": [
    "## Random Forest\n",
    "We set the n_estimetors = 100."
   ]
  },
  {
   "cell_type": "code",
   "execution_count": 78,
   "metadata": {
    "collapsed": false
   },
   "outputs": [
    {
     "name": "stdout",
     "output_type": "stream",
     "text": [
      "0.775449101796\n"
     ]
    }
   ],
   "source": [
    "from sklearn.ensemble import RandomForestClassifier\n",
    "RF = RandomForestClassifier(n_estimators=100)\n",
    "RF.fit(SelectedFeatures[0:N_sep], lable[0:N_sep])\n",
    "print RF.score(SelectedFeatures[N_sep:], lable[N_sep:])\n",
    "feat_pred_RF = RF.predict(SelectedFeatures[N_sep:])"
   ]
  },
  {
   "cell_type": "code",
   "execution_count": 79,
   "metadata": {
    "collapsed": false
   },
   "outputs": [
    {
     "data": {
      "image/png": "[encoded data removed]",
      "text/plain": [
       "<matplotlib.figure.Figure at 0x122ee1a90>"
      ]
     },
     "metadata": {},
     "output_type": "display_data"
    }
   ],
   "source": [
    "PlotCM(lable[N_sep:],feat_pred_svm,'RF')"
   ]
  },
  {
   "cell_type": "markdown",
   "metadata": {},
   "source": [
    "## BenchMark for Different Number of Features"
   ]
  },
  {
   "cell_type": "code",
   "execution_count": null,
   "metadata": {
    "collapsed": false
   },
   "outputs": [],
   "source": [
    "k_gnb = []\n",
    "k_svm = []\n",
    "k_rf = []\n",
    "\n",
    "for num_feature in range(100,2000,100):\n",
    "    Selec = SelectKBest(f_classif, k = num_feature )\n",
    "    train_data_features = Selec.fit_transform(AllFeatures_fft, lable)\n",
    "    \n",
    "    #GNB\n",
    "    gnb.fit(train_data_features[0:N_sep], lable[0:N_sep])\n",
    "    k_gnb.append(gnb.score(train_data_features[N_sep:], lable[N_sep:]))\n",
    "    \n",
    "    #SVM  \n",
    "    svm.fit(train_data_features[0:N_sep], lable[0:N_sep])\n",
    "    k_svm.append(svm.score(train_data_features[N_sep:], lable[N_sep:]))\n",
    "    \n",
    "    #RF\n",
    "    RF.fit(train_data_features[0:N_sep], lable[0:N_sep])\n",
    "    k_rf.append(RF.score(train_data_features[N_sep:], lable[N_sep:]))\n",
    "    \n"
   ]
  },
  {
   "cell_type": "code",
   "execution_count": null,
   "metadata": {
    "collapsed": false
   },
   "outputs": [],
   "source": [
    "BenchMark = pd.DataFrame({\"GNB\":k_gnb,\"SVM\":k_svm,'RF':k_rf})\n",
    "BenchMark.index = [\"k = \"+ str(i) for i in range(100,2000,100)]\n",
    "BenchMark"
   ]
  },
  {
   "cell_type": "code",
   "execution_count": null,
   "metadata": {
    "collapsed": false
   },
   "outputs": [],
   "source": [
    "plt.figure(figsize = (10,7))\n",
    "plt.plot(BenchMark[\"GNB\"])\n",
    "plt.plot(BenchMark[\"SVM\"])\n",
    "plt.plot(BenchMark[\"RF\"])\n",
    "plt.xticks(range(0,19),range(100,2000,100))\n",
    "plt.legend(['GNB','SVM','RF'])\n",
    "plt.xlabel(\"Number of Features K\")\n",
    "plt.ylabel(\"Accuaracy rate 2:1 train-test split\")\n",
    "plt.title(\"Benchmark for differents classifiers against number of features (K)\")"
   ]
  },
  {
   "cell_type": "code",
   "execution_count": null,
   "metadata": {
    "collapsed": false
   },
   "outputs": [],
   "source": [
    "k_gnb = []\n",
    "k_svm = []\n",
    "k_rf = []\n",
    "\n",
    "for num_feature in range(10,200,10):\n",
    "    Selec = SelectKBest(f_classif, k = num_feature )\n",
    "    train_data_features = Selec.fit_transform(AllFeatures_fft, lable)\n",
    "    \n",
    "    #GNB\n",
    "    gnb.fit(train_data_features[0:N_sep], lable[0:N_sep])\n",
    "    k_gnb.append(gnb.score(train_data_features[N_sep:], lable[N_sep:]))\n",
    "    \n",
    "    #SVM  \n",
    "    svm.fit(train_data_features[0:N_sep], lable[0:N_sep])\n",
    "    k_svm.append(svm.score(train_data_features[N_sep:], lable[N_sep:]))\n",
    "    \n",
    "    #RF\n",
    "    RF.fit(train_data_features[0:N_sep], lable[0:N_sep])\n",
    "    k_rf.append(RF.score(train_data_features[N_sep:], lable[N_sep:]))\n",
    "    "
   ]
  },
  {
   "cell_type": "code",
   "execution_count": null,
   "metadata": {
    "collapsed": false
   },
   "outputs": [],
   "source": [
    "BenchMark2 = pd.DataFrame({\"GNB\":k_gnb,\"SVM\":k_svm,'RF':k_rf})\n",
    "BenchMark2.index = [\"k = \"+ str(i) for i in range(10,200,10)]\n",
    "BenchMark2"
   ]
  },
  {
   "cell_type": "code",
   "execution_count": null,
   "metadata": {
    "collapsed": false
   },
   "outputs": [],
   "source": [
    "plt.figure(figsize = (10,7))\n",
    "plt.plot(BenchMark2[\"GNB\"])\n",
    "plt.plot(BenchMark2[\"SVM\"])\n",
    "plt.plot(BenchMark2[\"RF\"])\n",
    "plt.xticks(range(0,19),range(10,200,10))\n",
    "plt.legend(['GNB','SVM','RF'])\n",
    "plt.xlabel(\"Number of Features K\")\n",
    "plt.ylabel(\"Accuaracy rate 2:1 train-test split\")\n",
    "plt.title(\"Benchmark for differents classifiers against number of features (K)\")"
   ]
  },
  {
   "cell_type": "markdown",
   "metadata": {},
   "source": [
    "### With these plots, we consider of using the algorithm RF with K = 110.\n",
    "\n",
    "## Cross-Validation"
   ]
  },
  {
   "cell_type": "code",
   "execution_count": 80,
   "metadata": {
    "collapsed": false
   },
   "outputs": [
    {
     "name": "stdout",
     "output_type": "stream",
     "text": [
      "[ 0.87128713  0.86138614  0.73        0.84        0.88        0.81        0.86\n",
      "  0.86        0.75757576  0.76767677]\n",
      "0.823792579258\n"
     ]
    }
   ],
   "source": [
    "from sklearn import cross_validation\n",
    "scores  = cross_validation.cross_val_score(RF, SelectedFeatures, lable, cv=10)\n",
    "print(scores)\n",
    "print(np.mean(scores))"
   ]
  },
  {
   "cell_type": "markdown",
   "metadata": {
    "collapsed": true
   },
   "source": [
    "# Some Other Tests\n",
    "### MLP"
   ]
  },
  {
   "cell_type": "code",
   "execution_count": 85,
   "metadata": {
    "collapsed": false
   },
   "outputs": [
    {
     "name": "stdout",
     "output_type": "stream",
     "text": [
      "0.672672672673\n"
     ]
    }
   ],
   "source": [
    "from MyMLP import *\n",
    "nn = NeuralNetwork([12,15,1], 'logistic')\n",
    "c = 0\n",
    "nn.fit(SelectedFeatures[0:N_sep], lable[0:N_sep],learning_rate=0.5)\n",
    "for i in range(N_sep+1,1000):\n",
    "    if lable[i] == int(nn.predict(SelectedFeatures[i])>0.5):\n",
    "        c+=1\n",
    "    #print nn.predict(SelectedFeatures[i])\n",
    "print c/333.0        "
   ]
  },
  {
   "cell_type": "code",
   "execution_count": null,
   "metadata": {
    "collapsed": true
   },
   "outputs": [],
   "source": []
  },
  {
   "cell_type": "code",
   "execution_count": 28,
   "metadata": {
    "collapsed": false
   },
   "outputs": [
    {
     "data": {
      "text/plain": [
       "(1000, 4260)"
      ]
     },
     "execution_count": 28,
     "metadata": {},
     "output_type": "execute_result"
    }
   ],
   "source": [
    "from sklearn.feature_selection import SelectKBest, f_classif\n",
    "\n",
    "Select = SelectKBest(f_classif, k=110)\n",
    "Select.fit(AllFeatures_fft,lable)\n",
    "SelectedFeatures = Select.transform(AllFeatures_fft)\n",
    "np.shape(AllFeatures_fft)"
   ]
  },
  {
   "cell_type": "code",
   "execution_count": 86,
   "metadata": {
    "collapsed": false
   },
   "outputs": [
    {
     "data": {
      "text/plain": [
       "array([   0,  750, 1500, 2250, 2751, 3000, 3750, 4326, 4500, 5770, 6819,\n",
       "       8250])"
      ]
     },
     "execution_count": 86,
     "metadata": {},
     "output_type": "execute_result"
    }
   ],
   "source": [
    "Select.get_support(True)"
   ]
  },
  {
   "cell_type": "code",
   "execution_count": 89,
   "metadata": {
    "collapsed": false
   },
   "outputs": [
    {
     "data": {
      "text/plain": [
       "array([   0,   14,  236,  327,  501,  533,  750,  819, 1206, 1326, 1500,\n",
       "       1624, 2250, 2324, 2445, 2751, 2783, 3000, 3236, 3576, 3750, 3833,\n",
       "       3923, 4206, 4326, 4500, 4803, 5202, 5479, 5553, 5615, 5770, 5874,\n",
       "       5984, 6069, 6141, 6331, 6429, 6520, 6729, 6819, 6901, 6902, 7500,\n",
       "       7569, 7628, 7652, 7865, 8250, 8378])"
      ]
     },
     "execution_count": 89,
     "metadata": {},
     "output_type": "execute_result"
    }
   ],
   "source": [
    "Select.get_support(True)"
   ]
  },
  {
   "cell_type": "code",
   "execution_count": null,
   "metadata": {
    "collapsed": true
   },
   "outputs": [],
   "source": []
  }
 ],
 "metadata": {
  "kernelspec": {
   "display_name": "Python 2",
   "language": "python",
   "name": "python2"
  },
  "language_info": {
   "codemirror_mode": {
    "name": "ipython",
    "version": 2
   },
   "file_extension": ".py",
   "mimetype": "text/x-python",
   "name": "python",
   "nbconvert_exporter": "python",
   "pygments_lexer": "ipython2",
   "version": "2.7.11"
  }
 },
 "nbformat": 4,
 "nbformat_minor": 0
}
